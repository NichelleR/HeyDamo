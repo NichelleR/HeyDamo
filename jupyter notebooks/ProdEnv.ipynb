{
 "cells": [
  {
   "cell_type": "code",
   "execution_count": 7,
   "metadata": {},
   "outputs": [],
   "source": [
    "import json\n",
    "import os\n",
    "import re"
   ]
  },
  {
   "cell_type": "code",
   "execution_count": 2,
   "metadata": {},
   "outputs": [],
   "source": [
    "path_to_json = 'Resources/'\n",
    "json_files = [pos_json for pos_json in os.listdir(path_to_json) if pos_json.endswith('.json')]\n",
    "\n",
    "\n",
    "json_text_list = []\n",
    "for index, js in enumerate(json_files):\n",
    "    with open(os.path.join(path_to_json, js)) as json_file:\n",
    "        json_text_list.append(json.load(json_file))\n"
   ]
  },
  {
   "cell_type": "code",
   "execution_count": 3,
   "metadata": {},
   "outputs": [
    {
     "name": "stdout",
     "output_type": "stream",
     "text": [
      "Adam's message count:118097\n",
      "Nichelle's message count:120421\n",
      "Total message count: 238518\n"
     ]
    }
   ],
   "source": [
    "adam_count = 0\n",
    "nichelle_count = 0\n",
    "for file in json_text_list:\n",
    "    for message in file['messages']:\n",
    "    #     print(message['sender_name'])\n",
    "        if message['sender_name'] == 'Adam Devigili':\n",
    "            adam_count += 1\n",
    "        elif message['sender_name'] == 'Nichelle Rivera':\n",
    "            nichelle_count += 1\n",
    "        \n",
    "print(f\"Adam's message count:{adam_count}\\nNichelle's message count:{nichelle_count}\\nTotal message count: \\\n",
    "{adam_count+nichelle_count}\")"
   ]
  },
  {
   "cell_type": "code",
   "execution_count": 8,
   "metadata": {},
   "outputs": [
    {
     "name": "stdout",
     "output_type": "stream",
     "text": [
      "lo*ve yo*u\n",
      "1896\n"
     ]
    }
   ],
   "source": [
    "def word_counter(word):\n",
    "    word_count = 0\n",
    "    for file in json_text_list:\n",
    "    #     print(file)\n",
    "        for message in file['messages']:\n",
    "    #         print(message)\n",
    "            for key, value in message.items():\n",
    "    #             print(key)\n",
    "                if key == 'content':\n",
    "                    if re.search(word, value.lower()):\n",
    "    #                 if re.search('lo*ve yo*u', value.lower()):\n",
    "    #                     print(value.lower())\n",
    "    #                 if 'love you' in value.lower():\n",
    "    #                     print(value)\n",
    "                        word_count += 1\n",
    "    return(word_count)\n",
    "print(word_counter(input()))"
   ]
  },
  {
   "cell_type": "code",
   "execution_count": null,
   "metadata": {},
   "outputs": [],
   "source": []
  }
 ],
 "metadata": {
  "kernelspec": {
   "display_name": "Python 3",
   "language": "python",
   "name": "python3"
  },
  "language_info": {
   "codemirror_mode": {
    "name": "ipython",
    "version": 3
   },
   "file_extension": ".py",
   "mimetype": "text/x-python",
   "name": "python",
   "nbconvert_exporter": "python",
   "pygments_lexer": "ipython3",
   "version": "3.7.4"
  }
 },
 "nbformat": 4,
 "nbformat_minor": 2
}
